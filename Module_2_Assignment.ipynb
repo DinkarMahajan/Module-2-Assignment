{
  "nbformat": 4,
  "nbformat_minor": 0,
  "metadata": {
    "colab": {
      "provenance": []
    },
    "kernelspec": {
      "name": "python3",
      "display_name": "Python 3"
    },
    "language_info": {
      "name": "python"
    }
  },
  "cells": [
    {
      "cell_type": "markdown",
      "source": [
        "Python Basics Questions"
      ],
      "metadata": {
        "id": "6BqaEK-kftSh"
      }
    },
    {
      "cell_type": "markdown",
      "source": [
        "1)What is Python, and why is it popular?\n",
        "\n",
        "Python is a high-level, interpreted programming language known for its simplicity and readability. It was created by Guido van Rossum and first released in 1991. Python is widely used for web development, data analysis , aritificial intelligence , machine learning, and more.\n",
        "Python is popular because of its readability, versatility, extensive libraries and frameworks, community support, cross-platform compatibility, productivity and speed."
      ],
      "metadata": {
        "id": "KcJwQRwwMQn4"
      }
    },
    {
      "cell_type": "markdown",
      "source": [
        "2)What is an interpreter in Python?\n",
        "\n",
        "An interpreter in Python is a program that executes Python code directly, line by line, without the need for pre-compilation into machine language. It serves as the runtime environment where Python code is analyzed and executed."
      ],
      "metadata": {
        "id": "aoCzZT3ihJy2"
      }
    },
    {
      "cell_type": "markdown",
      "source": [
        "3)What are pre-defined keywords in Python?\n",
        "\n",
        "Pre-defined keywords in Python are reserved words that have specific meanings and purposes within the language's syntax. These cannot be used as identifiers(e.g.,variable names, function names) because they are essential to the structure and functionality of Python programs."
      ],
      "metadata": {
        "id": "zWK2CiKxiDFH"
      }
    },
    {
      "cell_type": "markdown",
      "source": [
        "4)Can keywords be used as variable names?\n",
        "\n",
        "No,keywords cannot be used as variable names in Python."
      ],
      "metadata": {
        "id": "xqWFfyAkj8BY"
      }
    },
    {
      "cell_type": "markdown",
      "source": [
        "5)What is mutability in Python?\n",
        "\n",
        "Mutability in Python refers to an object's ability to be changed (mutated) after it has been created.Depending on whether their value can be altered, objects in Python are classified as mutable or immitable.These are objects whose content or state can be changed after they are created."
      ],
      "metadata": {
        "id": "sSpI9fk-kjU9"
      }
    },
    {
      "cell_type": "markdown",
      "source": [
        "6)Why are lists mutable,but tuples are immutable?\n",
        "\n",
        "Lists are designed for dynamic, changeable collections(adding,removing or updating elements).\n",
        "Tuples are for fixed,unchanging groups od data"
      ],
      "metadata": {
        "id": "sk1PpbdTlhQy"
      }
    },
    {
      "cell_type": "markdown",
      "source": [
        "7)What is the difference between \"==\" and \"is\" operators in Python?\n",
        "\n",
        "\"==\" is used to compare values and \"is\" is used to check if two objects are the same object."
      ],
      "metadata": {
        "id": "iETNXrqMEzIr"
      }
    },
    {
      "cell_type": "markdown",
      "source": [
        "8)What are logical operators in Python?\n",
        "\n",
        "Logical operators are used to combine conditional statements or to evaluate Boolean expressions.Python provides three logical operators: and,or and not."
      ],
      "metadata": {
        "id": "1SPp3pr6FOcS"
      }
    },
    {
      "cell_type": "markdown",
      "source": [
        "9)What is typecasting in Python?\n",
        "\n",
        "Typecasting in python is the process of converting one data type into another. It is also known as type conversion.Python supports two kinds of typecasting that is implicit type casting and explicit typecasting."
      ],
      "metadata": {
        "id": "taRqX9LeFv1W"
      }
    },
    {
      "cell_type": "markdown",
      "source": [
        "10)What is the difference between implicit and explicit type casting?\n",
        "\n",
        "Implicit typecasting is done automatically by python and explicit typecasting is done manually by the programmer using specific functions."
      ],
      "metadata": {
        "id": "P9p2ZLxDmmfY"
      }
    },
    {
      "cell_type": "markdown",
      "source": [
        "11)What is the purpose of conditional statements in Python?\n",
        "\n",
        "Conditional statements control the flow of a program based on certain conditions, allowing the program to make decisions and execute different code depending on whether the condition is True or False.Example if , elif and else."
      ],
      "metadata": {
        "id": "WDAsn_5VG-9J"
      }
    },
    {
      "cell_type": "markdown",
      "source": [
        "12)How does the elif statement work?\n",
        "\n",
        "The elif statement allows you to check multiple conditions in a sequence.It is used after an \"if\" statement and can check additional conditions if the \"if\" condition is false."
      ],
      "metadata": {
        "id": "MUiuTLS8JM87"
      }
    },
    {
      "cell_type": "markdown",
      "source": [
        "13)What is the difference between for and while loops?\n",
        "\n",
        "For loop is used to iterate over a sequence(like a list,tuple, or range).\n",
        "While loop is used to repeat a block of code as long as a condition is True."
      ],
      "metadata": {
        "id": "AYGokn3PJ_fP"
      }
    },
    {
      "cell_type": "markdown",
      "source": [
        "14)Describe a scenario where a while loop is more suitable than a for loop.\n",
        "\n",
        "Scenario: Reading User Input Untill Valid Data is Provided\n",
        "Imagine you want to prompt a user to enter a valid age, but you don't know how many times they might need to try. You want the program to keep asking for input untill the user enters a valid number (e.g.,a positive interger)\n",
        "\n",
        "In this case , a while loop is more suitable because you don't know how many attempts it will take for the user to input valid data."
      ],
      "metadata": {
        "id": "av5IcdjeLIkQ"
      }
    },
    {
      "cell_type": "markdown",
      "source": [
        "Practical Questions"
      ],
      "metadata": {
        "id": "0Tpho2vLMONP"
      }
    },
    {
      "cell_type": "markdown",
      "source": [
        "1)Write a Python program to print \"Hello, World!\" ."
      ],
      "metadata": {
        "id": "qrAvTdG8NoaM"
      }
    },
    {
      "cell_type": "code",
      "source": [
        "print(\"Hello, World!\")"
      ],
      "metadata": {
        "colab": {
          "base_uri": "https://localhost:8080/"
        },
        "id": "g3LK1RMVPuLI",
        "outputId": "141597c0-7a90-4281-a2c1-47ad2b0f1e1d"
      },
      "execution_count": null,
      "outputs": [
        {
          "output_type": "stream",
          "name": "stdout",
          "text": [
            "Hello, World!\n"
          ]
        }
      ]
    },
    {
      "cell_type": "markdown",
      "source": [
        "2)Write a Python program that displays your name and age."
      ],
      "metadata": {
        "id": "sgifu5aoP6Bc"
      }
    },
    {
      "cell_type": "code",
      "source": [
        "name = \"Dinkar Mahajan\"\n",
        "age = 22\n",
        "\n",
        "print(f\"Name: {name}\")\n",
        "print(f\"Age: {age}\")"
      ],
      "metadata": {
        "colab": {
          "base_uri": "https://localhost:8080/"
        },
        "id": "iPrTZH7qQBdM",
        "outputId": "b34ec8fb-d1b2-4dfa-c488-99ea85a8322d"
      },
      "execution_count": null,
      "outputs": [
        {
          "output_type": "stream",
          "name": "stdout",
          "text": [
            "Name: Dinkar Mahajan\n",
            "Age: 22\n"
          ]
        }
      ]
    },
    {
      "cell_type": "markdown",
      "source": [
        "3)Write code to print all the pre-defined keywords in Python using the keyword library.\n"
      ],
      "metadata": {
        "id": "7U298FuQQads"
      }
    },
    {
      "cell_type": "code",
      "source": [
        "import keyword\n",
        "\n",
        "print(\"Python Keywords:\")\n",
        "print(keyword.kwlist)"
      ],
      "metadata": {
        "colab": {
          "base_uri": "https://localhost:8080/"
        },
        "id": "NnnRCgWINJ3x",
        "outputId": "2abc0391-67d7-497e-8200-83e0e06a3982"
      },
      "execution_count": null,
      "outputs": [
        {
          "output_type": "stream",
          "name": "stdout",
          "text": [
            "Python Keywords:\n",
            "['False', 'None', 'True', 'and', 'as', 'assert', 'async', 'await', 'break', 'class', 'continue', 'def', 'del', 'elif', 'else', 'except', 'finally', 'for', 'from', 'global', 'if', 'import', 'in', 'is', 'lambda', 'nonlocal', 'not', 'or', 'pass', 'raise', 'return', 'try', 'while', 'with', 'yield']\n"
          ]
        }
      ]
    },
    {
      "cell_type": "markdown",
      "source": [
        "4)Write a program that checks if a given word is a Python keyword?"
      ],
      "metadata": {
        "id": "R3QD6NW7QF0N"
      }
    },
    {
      "cell_type": "code",
      "source": [
        "import keyword\n",
        "\n",
        "word = input(\"Enter a word to check if it is a Python keyword: \")\n",
        "\n",
        "if keyword.iskeyword(word):\n",
        "  print(f\"'{word}' is a Python keyword.\")\n",
        "else:\n",
        "  print(f\"'{word}' is not a Python keyword.\")"
      ],
      "metadata": {
        "colab": {
          "base_uri": "https://localhost:8080/"
        },
        "id": "RYfT4gGOQS7l",
        "outputId": "d448070c-4ba1-4c56-d237-da13c82be524"
      },
      "execution_count": null,
      "outputs": [
        {
          "output_type": "stream",
          "name": "stdout",
          "text": [
            "Enter a word to check if it is a Python keyword: False\n",
            "'False' is a Python keyword.\n"
          ]
        }
      ]
    },
    {
      "cell_type": "markdown",
      "source": [
        "5)Create a list and tuple in Python, and demonstrate how attempting to change an element works differently for each."
      ],
      "metadata": {
        "id": "bRBGqYXBRCz8"
      }
    },
    {
      "cell_type": "code",
      "source": [
        "my_list = [10,20,30]\n",
        "my_tuple = (10,20,30)\n",
        "\n",
        "print(\"Original List:\", my_list)\n",
        "my_list[0] = 100\n",
        "print(\"Modified List:\", my_list)\n",
        "\n",
        "print(\"\\nOriginal Tuple:\", my_tuple)\n",
        "try:\n",
        "  my_tuple[0] = 100\n",
        "except TypeError as e:\n",
        "  print(f\"Error: {e} (Tuples are immutable and cannot be modified.)\")"
      ],
      "metadata": {
        "colab": {
          "base_uri": "https://localhost:8080/"
        },
        "id": "xBjKTgiXRUJQ",
        "outputId": "fd2dc474-d51a-4b88-85af-84677c25c288"
      },
      "execution_count": null,
      "outputs": [
        {
          "output_type": "stream",
          "name": "stdout",
          "text": [
            "Original List: [10, 20, 30]\n",
            "Modified List: [100, 20, 30]\n",
            "\n",
            "Original Tuple: (10, 20, 30)\n",
            "Error: 'tuple' object does not support item assignment (Tuples are immutable and cannot be modified.)\n"
          ]
        }
      ]
    },
    {
      "cell_type": "markdown",
      "source": [
        "6)Write a function to demonstrate the behaviour of mutable and immutable arguments."
      ],
      "metadata": {
        "id": "PT0E2-CmSb_R"
      }
    },
    {
      "cell_type": "code",
      "source": [
        "def modify_args(mutable_arg, immutable_arg):\n",
        "  mutable_arg.append(100)\n",
        "  immutable_arg += 100\n",
        "  print(\"\\nInside the function:\")\n",
        "  print(\"Mutable argument (list):\", mutable_arg)\n",
        "  print(\"Immutable argument (interger):\", immutable_arg)\n",
        "\n",
        "my_list=[1,2,3]\n",
        "my_number = 10\n",
        "\n",
        "print(\"Before function call:\")\n",
        "print(\"Mutable argument (list):\", my_list)\n",
        "print(\"Immutable argument (integer):\", my_number)\n",
        "\n",
        "modify_args(my_list, my_number)\n",
        "\n",
        "print(\"\\nAfter function call:\")\n",
        "print(\"Mutable argument (list):\",my_list)\n",
        "print(\"Immutable argument (integer):\", my_number)\n"
      ],
      "metadata": {
        "colab": {
          "base_uri": "https://localhost:8080/"
        },
        "id": "mlVC-O79Snmz",
        "outputId": "87079df3-13ce-4b36-9677-7fc65f177fee"
      },
      "execution_count": null,
      "outputs": [
        {
          "output_type": "stream",
          "name": "stdout",
          "text": [
            "Before function call:\n",
            "Mutable argument (list): [1, 2, 3]\n",
            "Immutable argument (integer): 10\n",
            "\n",
            "Inside the function:\n",
            "Mutable argument (list): [1, 2, 3, 100]\n",
            "Immutable argument (interger): 110\n",
            "\n",
            "After function call:\n",
            "Mutable argument (list): [1, 2, 3, 100]\n",
            "Immutable argument (integer): 10\n"
          ]
        }
      ]
    },
    {
      "cell_type": "markdown",
      "source": [
        "6th and 7th questions are same."
      ],
      "metadata": {
        "id": "3S9BBoLXV-Sc"
      }
    },
    {
      "cell_type": "markdown",
      "source": [
        "8)Write a program to demonstrate the use of logical operators."
      ],
      "metadata": {
        "id": "y_5HjVbZWIYD"
      }
    },
    {
      "cell_type": "code",
      "source": [
        "num1 = int(input(\"Enter the first number: \"))\n",
        "num2 = int(input(\"Enter the second number: \"))\n",
        "\n",
        "if num1 > 0 and num2 > 0:\n",
        "  print(\"Both numbers are positive.\")\n",
        "\n",
        "if num1 < 0 or num2 < 0:\n",
        "  print(\"At least one number is negative.\")\n",
        "\n",
        "if not(num1 == num2):\n",
        "  print(\"The numbers are not equal.\")\n",
        "else:\n",
        "  print(\"The numbers are equal.\")"
      ],
      "metadata": {
        "colab": {
          "base_uri": "https://localhost:8080/"
        },
        "id": "UsvHlm9nWSqM",
        "outputId": "6b6e5042-fccc-4351-cc51-a05352e5d477"
      },
      "execution_count": null,
      "outputs": [
        {
          "output_type": "stream",
          "name": "stdout",
          "text": [
            "Enter the first number: 5\n",
            "Enter the second number: 3\n",
            "Both numbers are positive.\n",
            "The numbers are not equal.\n"
          ]
        }
      ]
    },
    {
      "cell_type": "markdown",
      "source": [
        "9)Write a Python program to convert user input from string to integer, float, and boolean types."
      ],
      "metadata": {
        "id": "fYcbymONXREX"
      }
    },
    {
      "cell_type": "code",
      "source": [
        "user_input = input(\"Enter a value: \")\n",
        "\n",
        "try:\n",
        "  int_value = int(user_input)\n",
        "  print(f\"Integer value: {int_value}\")\n",
        "except ValueError:\n",
        "  print(\"Cannot convert to integer.\")\n",
        "\n",
        "try:\n",
        "  float_value = float(user_input)\n",
        "  print(f\"Float: {float_value}\")\n",
        "except ValueError:\n",
        "  print(\"Cannot convert to float.\")\n",
        "\n",
        "bool_value = bool(user_input)\n",
        "print(f\"Boolean value: {bool_value}\")"
      ],
      "metadata": {
        "colab": {
          "base_uri": "https://localhost:8080/"
        },
        "id": "1ehag0XLXhSf",
        "outputId": "9ee2695a-ca04-48dc-adc6-270b0c31b1c0"
      },
      "execution_count": null,
      "outputs": [
        {
          "output_type": "stream",
          "name": "stdout",
          "text": [
            "Enter a value: 2\n",
            "Integer value: 2\n",
            "Float: 2.0\n",
            "Boolean value: True\n"
          ]
        }
      ]
    },
    {
      "cell_type": "markdown",
      "source": [
        "10)Write code to demonstrate type casting with list elements."
      ],
      "metadata": {
        "id": "ssy4W5IgZOL8"
      }
    },
    {
      "cell_type": "code",
      "source": [
        "data_list = [\"1\",\"2.5\",\"True\",\"hello\"]\n",
        "\n",
        "int_list = []\n",
        "float_list = []\n",
        "bool_list = []\n",
        "str_list = []\n",
        "\n",
        "for item in data_list:\n",
        "  try:\n",
        "    int_list.append(int(float(item)))\n",
        "  except ValueError:\n",
        "    int_list.append(None)\n",
        "\n",
        "  try:\n",
        "    float_list.append(float(item))\n",
        "  except ValueError:\n",
        "    float_list.append(None)\n",
        "\n",
        "  bool_list.append(bool(item))\n",
        "\n",
        "  str_list.append(str(item))\n",
        "\n",
        "print(\"Original List:\", data_list)\n",
        "print(\"Integer List:\",int_list)\n",
        "print(\"Float List:\",float_list)\n",
        "print(\"Boolean List:\", bool_list)\n",
        "print(\"String List:\", str_list)\n"
      ],
      "metadata": {
        "colab": {
          "base_uri": "https://localhost:8080/"
        },
        "id": "5n0rlUCNcdrd",
        "outputId": "18d58fdf-87f0-4d15-ecf7-bb71c061d849"
      },
      "execution_count": null,
      "outputs": [
        {
          "output_type": "stream",
          "name": "stdout",
          "text": [
            "Original List: ['1', '2.5', 'True', 'hello']\n",
            "Integer List: [1, 2, None, None]\n",
            "Float List: [1.0, 2.5, None, None]\n",
            "Boolean List: [True, True, True, True]\n",
            "String List: ['1', '2.5', 'True', 'hello']\n"
          ]
        }
      ]
    },
    {
      "cell_type": "markdown",
      "source": [
        "11)Write a program that checks if a number is positive, nagative, or zero."
      ],
      "metadata": {
        "id": "4khRJ_92d3I1"
      }
    },
    {
      "cell_type": "code",
      "source": [
        "number = float(input(\"Enter a number: \"))\n",
        "\n",
        "if number > 0:\n",
        "  print(f\"{number} is a positive number.\")\n",
        "\n",
        "elif number < 0:\n",
        "  print(f\"{number} is a negative number.\")\n",
        "\n",
        "else:\n",
        "  print(\"The number is zero.\")"
      ],
      "metadata": {
        "colab": {
          "base_uri": "https://localhost:8080/"
        },
        "id": "e4ett_QyeEK9",
        "outputId": "2f0660ca-418e-4839-df45-327206f75c86"
      },
      "execution_count": null,
      "outputs": [
        {
          "output_type": "stream",
          "name": "stdout",
          "text": [
            "Enter a number: -5\n",
            "-5.0 is a negative number.\n"
          ]
        }
      ]
    },
    {
      "cell_type": "markdown",
      "source": [
        "12)Write a for loop to print numbers from 1 to 10."
      ],
      "metadata": {
        "id": "GkVLPiiPe0FH"
      }
    },
    {
      "cell_type": "code",
      "source": [
        "for number in range(1,11):\n",
        "  print(number)"
      ],
      "metadata": {
        "id": "FLrISW_7e9Ko",
        "colab": {
          "base_uri": "https://localhost:8080/"
        },
        "outputId": "0ec8ce4c-a5ac-49ee-c6fe-c0911e8712a5"
      },
      "execution_count": 12,
      "outputs": [
        {
          "output_type": "stream",
          "name": "stdout",
          "text": [
            "1\n",
            "2\n",
            "3\n",
            "4\n",
            "5\n",
            "6\n",
            "7\n",
            "8\n",
            "9\n",
            "10\n"
          ]
        }
      ]
    },
    {
      "cell_type": "markdown",
      "source": [
        "13) Write a Python program to find the sum of all even numbers between 1 and 50."
      ],
      "metadata": {
        "id": "IYvefIaaftiD"
      }
    },
    {
      "cell_type": "code",
      "source": [
        "even_sum = 0\n",
        "\n",
        "for number in range(1, 51):\n",
        "  if number % 2 == 0:\n",
        "    even_sum += number\n",
        "\n",
        "print(f\"The sum of all even numbers between 1 and 50 is: {even_sum}\")"
      ],
      "metadata": {
        "id": "IAWfULVYgBIC",
        "colab": {
          "base_uri": "https://localhost:8080/"
        },
        "outputId": "001b7d4e-ab7f-43bc-e509-b6233ab461bd"
      },
      "execution_count": 13,
      "outputs": [
        {
          "output_type": "stream",
          "name": "stdout",
          "text": [
            "The sum of all even numbers between 1 and 50 is: 650\n"
          ]
        }
      ]
    },
    {
      "cell_type": "markdown",
      "source": [
        "14)Write a program to reverse a string using a while loop."
      ],
      "metadata": {
        "id": "ZbEQR7C2gy9C"
      }
    },
    {
      "cell_type": "code",
      "source": [
        "original_string = input(\"Enter a string: \")\n",
        "\n",
        "reversed_string = \"\"\n",
        "index = len(original_string) - 1\n",
        "\n",
        "while index >= 0:\n",
        "  reversed_string += original_string[index]\n",
        "  index -= 1\n",
        "\n",
        "print(\"Reversed string:\", reversed_string)"
      ],
      "metadata": {
        "colab": {
          "base_uri": "https://localhost:8080/"
        },
        "id": "yrziLHFmg7WZ",
        "outputId": "60eecfb9-357e-4529-9ab0-7ef2304112f1"
      },
      "execution_count": 14,
      "outputs": [
        {
          "output_type": "stream",
          "name": "stdout",
          "text": [
            "Enter a string: 23\n",
            "Reversed string: 32\n"
          ]
        }
      ]
    },
    {
      "cell_type": "markdown",
      "source": [
        "15)Write a Python program to calculate the factorial of a number provided by the user using a while loop."
      ],
      "metadata": {
        "id": "lKd3757ghsQZ"
      }
    },
    {
      "cell_type": "code",
      "source": [
        "num = int(input(\"Enter a number to calculate its factorial: \"))\n",
        "\n",
        "factorial = 1\n",
        "count = num\n",
        "\n",
        "while count > 1:\n",
        "  factorial *= count\n",
        "  count -= 1\n",
        "\n",
        "print(f\"The factorial of {num} is: {factorial}\")"
      ],
      "metadata": {
        "colab": {
          "base_uri": "https://localhost:8080/"
        },
        "id": "RhrsO2Neh9PQ",
        "outputId": "ddfd95de-ab5d-4ec6-9d71-798f427afb08"
      },
      "execution_count": 15,
      "outputs": [
        {
          "output_type": "stream",
          "name": "stdout",
          "text": [
            "Enter a number to calculate its factorial: 5\n",
            "The factorial of 5 is: 120\n"
          ]
        }
      ]
    }
  ]
}